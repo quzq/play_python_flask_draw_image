{
 "nbformat": 4,
 "nbformat_minor": 2,
 "metadata": {
  "language_info": {
   "name": "python",
   "codemirror_mode": {
    "name": "ipython",
    "version": 3
   },
   "version": "3.6.9-final"
  },
  "orig_nbformat": 2,
  "file_extension": ".py",
  "mimetype": "text/x-python",
  "name": "python",
  "npconvert_exporter": "python",
  "pygments_lexer": "ipython3",
  "version": 3,
  "kernelspec": {
   "name": "python36964bit50599202422c45f5aab2390b489b2ad1",
   "display_name": "Python 3.6.9 64-bit"
  }
 },
 "cells": [
  {
   "cell_type": "code",
   "execution_count": 30,
   "metadata": {},
   "outputs": [
    {
     "data": {
      "text/plain": "'1-1.jpg'"
     },
     "execution_count": 30,
     "metadata": {},
     "output_type": "execute_result"
    }
   ],
   "source": [
    "str = '1-1.jpg'\n",
    "str"
   ]
  },
  {
   "cell_type": "code",
   "execution_count": 31,
   "metadata": {},
   "outputs": [
    {
     "name": "stdout",
     "output_type": "stream",
     "text": "2 3\n"
    }
   ],
   "source": [
    "import re\n",
    "str = '2-3.jpg'\n",
    "matches = re.findall(r\"[0-9]+\" , str)\n",
    "dai = int(matches[0])\n",
    "dan = int(matches[1])\n",
    "print(dai,dan)"
   ]
  },
  {
   "cell_type": "code",
   "execution_count": 44,
   "metadata": {},
   "outputs": [
    {
     "name": "stdout",
     "output_type": "stream",
     "text": "1\n1\n1\n2\n2\n2\n3\n3\n"
    }
   ],
   "source": [
    "from functools import reduce\n",
    "\n",
    "imageFiles = [\n",
    "    {'file_name': '1-1.jpg', 'file_path': 'sample/sample2.jpg'},\n",
    "    {'file_name': '1-2.jpg', 'file_path': 'sample/sample.jpg'},\n",
    "    {'file_name': '1-3.jpg', 'file_path': 'sample/sample2.jpg'},\n",
    "    {'file_name': '2-1.jpg', 'file_path': 'sample/sample2.jpg'},\n",
    "    {'file_name': '2-2.jpg', 'file_path': 'sample/sample.jpg'},\n",
    "    {'file_name': '2-3.jpg', 'file_path': 'sample/sample2.jpg'},\n",
    "    {'file_name': '3-1.jpg', 'file_path': 'sample/sample2.jpg'},\n",
    "    {'file_name': '3-2.jpg', 'file_path': 'sample/sample.jpg'},\n",
    "]\n",
    "result = map(lambda i: int(re.findall(r\"[0-9]+\", i['file_name'])[0]),imageFiles )\n",
    "for text in result:\n",
    "    print(text)"
   ]
  },
  {
   "cell_type": "code",
   "execution_count": 33,
   "metadata": {},
   "outputs": [
    {
     "name": "stdout",
     "output_type": "stream",
     "text": "<_sre.SRE_Match object; span=(0, 1), match='2'>\n"
    }
   ],
   "source": [
    "import re\n",
    "str = '2-3.jpg'\n",
    "matches = re.match(r\"[0-9]+\" , str)\n",
    "print(matches)\n",
    ""
   ]
  },
  {
   "cell_type": "code",
   "execution_count": 38,
   "metadata": {},
   "outputs": [
    {
     "name": "stdout",
     "output_type": "stream",
     "text": "4\n"
    }
   ],
   "source": [
    "from functools import reduce\n",
    "\n",
    "imageFiles = [\n",
    "    {'file_name': '1-1.jpg', 'file_path': 'sample/sample2.jpg'},\n",
    "    {'file_name': '1-2.jpg', 'file_path': 'sample/sample.jpg'},\n",
    "    {'file_name': '1-3.jpg', 'file_path': 'sample/sample2.jpg'},\n",
    "    {'file_name': '2-1.jpg', 'file_path': 'sample/sample2.jpg'},\n",
    "    {'file_name': '2-2.jpg', 'file_path': 'sample/sample.jpg'},\n",
    "    {'file_name': '2-3.jpg', 'file_path': 'sample/sample2.jpg'},\n",
    "    {'file_name': '3-1.jpg', 'file_path': 'sample/sample2.jpg'},\n",
    "    {'file_name': '3-2.jpg', 'file_path': 'sample/sample.jpg'},\n",
    "]\n",
    "dai_max = max(map(lambda i: int(re.match(r\"[0-9]+\", i['file_name'])[0]),imageFiles ))\n",
    "print(dai_max)\n"
   ]
  },
  {
   "cell_type": "code",
   "execution_count": null,
   "metadata": {},
   "outputs": [],
   "source": [
    "imageFiles = [\n",
    "    {'file_name': '1-1.jpg', 'file_path': 'sample/sample2.jpg'},\n",
    "    {'file_name': '1-2.jpg', 'file_path': 'sample/sample.jpg'},\n",
    "    {'file_name': '1-3.jpg', 'file_path': 'sample/sample2.jpg'},\n",
    "    {'file_name': '2-1.jpg', 'file_path': 'sample/sample2.jpg'},\n",
    "    {'file_name': '2-2.jpg', 'file_path': 'sample/sample.jpg'},\n",
    "    {'file_name': '2-3.jpg', 'file_path': 'sample/sample2.jpg'},\n",
    "    {'file_name': '3-1.jpg', 'file_path': 'sample/sample2.jpg'},\n",
    "    {'file_name': '3-2.jpg', 'file_path': 'sample/sample.jpg'},\n",
    "]\n",
    "print(100)\n",
    "for imageFile in imageFiles:\n",
    "    print(re.match(r\"[0-9]+\", imageFile['file_name']))"
   ]
  },
  {
   "cell_type": "code",
   "execution_count": 2,
   "metadata": {},
   "outputs": [
    {
     "name": "stdout",
     "output_type": "stream",
     "text": "[0, 1, 2, 3, 4]\n"
    }
   ],
   "source": [
    "print(list(range(5)))"
   ]
  },
  {
   "cell_type": "code",
   "execution_count": 3,
   "metadata": {},
   "outputs": [
    {
     "name": "stdout",
     "output_type": "stream",
     "text": "0\n1\n2\n3\n4\n"
    }
   ],
   "source": [
    "for i in range(5):\n",
    "    print(i)"
   ]
  },
  {
   "cell_type": "code",
   "execution_count": 6,
   "metadata": {},
   "outputs": [
    {
     "name": "stdout",
     "output_type": "stream",
     "text": "true\n"
    }
   ],
   "source": [
    "if {'aaa':1}:\n",
    "    print('true')\n",
    "else:\n",
    "    print('false')"
   ]
  },
  {
   "cell_type": "code",
   "execution_count": 7,
   "metadata": {},
   "outputs": [
    {
     "name": "stdout",
     "output_type": "stream",
     "text": "10\n"
    }
   ],
   "source": [
    "from functools import reduce\n",
    "print(reduce(lambda a, b: a+b, range(5)))"
   ]
  },
  {
   "cell_type": "code",
   "execution_count": 9,
   "metadata": {},
   "outputs": [
    {
     "name": "stdout",
     "output_type": "stream",
     "text": "[1, 2, 3, 4, 5]\n"
    }
   ],
   "source": [
    "print(list(map(lambda a: a+1, range(5))))"
   ]
  },
  {
   "cell_type": "code",
   "execution_count": null,
   "metadata": {},
   "outputs": [],
   "source": []
  }
 ]
}